{
  "nbformat": 4,
  "nbformat_minor": 0,
  "metadata": {
    "colab": {
      "name": "Taller_Grafos.ipynb",
      "provenance": [],
      "collapsed_sections": []
    },
    "kernelspec": {
      "name": "python3",
      "display_name": "Python 3"
    },
    "language_info": {
      "name": "python"
    }
  },
  "cells": [
    {
      "cell_type": "markdown",
      "source": [
        "Taller de Grafos - 17 de Junio de 2022 \\\\\n",
        "**Nombre:** Óscar Adolfo Tamayo Vélez \\\\\n",
        "**Id:** 1'088,032,831 \\\\\n",
        "**Asignatura:** Estructuras de Datos\n",
        "**Docente:** Germán Augusto Osorio Zuluaga \\\\\n",
        "Universidad Nacional de Colombia - Sede Manizales"
      ],
      "metadata": {
        "id": "4bW-pfy9fTOg"
      }
    },
    {
      "cell_type": "markdown",
      "source": [
        "#Taller de Grafos:"
      ],
      "metadata": {
        "id": "_ueDuXfAeEeu"
      }
    },
    {
      "cell_type": "markdown",
      "source": [
        "1. Crear un método que lea una matriz de adyacencia de un grafo no dirigido.\n",
        "\n",
        "2. Crear un método que lea una matriz de adyacencia para un grafo dirigido.\n",
        "\n",
        "3. Crear un método que calcule la densidad de un grafo a partir de la matriz de adyacencia.\n",
        "\n",
        "4. Crear un método que calcule la centralidad de grado de un grafo no dirigido.\n",
        "\n",
        "5. Crear dos métodos: Uno que calcule el grado de entrada y otro el grado de salida de un nodo a partir de la matriz de adyacencia.\n",
        "\n",
        "**Respuestas:**\n",
        "\n",
        "1."
      ],
      "metadata": {
        "id": "7NPMbUVIeJZE"
      }
    },
    {
      "cell_type": "code",
      "source": [
        "#Método que lee una matriz de adyacencia de un grafo no dirigido\n",
        "import copy\n",
        "import numpy as np\n",
        "def leeMat_grafo_No_Dirigido():\n",
        "  n = int(input('Numero de nodos: '))\n",
        "  matrix_ = []\n",
        "\n",
        "  for i in range(n):\n",
        "    a = [0]*n\n",
        "    matrix_.append(a)\n",
        "\n",
        "  n_max_arista = int(n*(n-1)/2)\n",
        "  count = 0\n",
        "\n",
        "  print(\"El número máximo de aristas que puede tener el grafo es: \", n_max_arista)\n",
        "\n",
        "  s = input(\"Indique si el grafo a implementar tiene el número completo de aristas, si es así digite 'Si', de lo contrario digite 'No': \")\n",
        "\n",
        "  if (s == 'Si' or s =='si'):\n",
        "    count = copy.copy(n_max_arista)\n",
        "  elif(s=='No' or s =='no'):\n",
        "    d = int(input(\"Digite el número total de aristas del grafo: \"))\n",
        "    count = copy.copy(d)\n",
        "  \n",
        "  bandera = True\n",
        "\n",
        "  while bandera == True:\n",
        "    if count > 0:\n",
        "      nodo_o = int(input('Nodo_origen: '))\n",
        "      nodo_d= int(input('Nodo_destino: '))\n",
        "      if nodo_o < nodo_d:\n",
        "        matrix_[nodo_o-1][nodo_d-1] = 1\n",
        "        count -= 1\n",
        "      else:\n",
        "        matrix_[nodo_d-1][nodo_o-1] = 1\n",
        "        count -= 1\n",
        "    else:\n",
        "      bandera = False\n",
        "  return matrix_\n",
        "  "
      ],
      "metadata": {
        "id": "yYWBe1oxPk8L"
      },
      "execution_count": 1,
      "outputs": []
    },
    {
      "cell_type": "markdown",
      "source": [
        "2."
      ],
      "metadata": {
        "id": "I8YLaRDreYex"
      }
    },
    {
      "cell_type": "code",
      "source": [
        "#Método que lee una matriz de adyacencia de un grafo dirigido\n",
        "def leeMat_grafo_Dirigido():\n",
        "  n = int(input('Numero de nodos: '))\n",
        "  matrix_ = []\n",
        "\n",
        "  for i in range(n):\n",
        "    a = [0]*n\n",
        "    matrix_.append(a)\n",
        "\n",
        "  n_max_arista = int(n*(n-1)/2)\n",
        "  count = 0\n",
        "\n",
        "  print(\"El número máximo de aristas que puede tener el grafo es: \", n_max_arista)\n",
        "\n",
        "  s = input(\"Indique si el grafo a implementar tiene el número completo de aristas, si es así digite 'Si', de lo contrario digite 'No': \")\n",
        "\n",
        "  if (s == 'Si' or s =='si'):\n",
        "    count = copy.copy(n_max_arista)\n",
        "  elif(s=='No' or s =='no'):\n",
        "    d = int(input(\"Digite el número total de aristas del grafo: \"))\n",
        "    count = copy.copy(d)\n",
        "  \n",
        "  bandera = True\n",
        "\n",
        "  while bandera == True:\n",
        "    if count > 0:\n",
        "      nodo_o = int(input('Nodo_origen: '))\n",
        "      nodo_d= int(input('Nodo_destino: '))\n",
        "      matrix_[nodo_o-1][nodo_d-1] = 1\n",
        "      count -= 1\n",
        "    else:\n",
        "      bandera = False\n",
        "  return matrix_"
      ],
      "metadata": {
        "id": "EzIqdB8kUu9O"
      },
      "execution_count": 2,
      "outputs": []
    },
    {
      "cell_type": "markdown",
      "source": [
        "3. Métodos para hallar la densidad de grafos dirigidos y grafos no dirigidos:"
      ],
      "metadata": {
        "id": "IfUXb4_lehzL"
      }
    },
    {
      "cell_type": "code",
      "source": [
        "#Método para hallar la densidad de grafos no dirigidos\n",
        "def densidad_grafo_no_dirigido(grafo):\n",
        "  contador_nodos = 0\n",
        "  contador_aristas = 0\n",
        "  n_f = len(grafo)\n",
        "  n_c = len(grafo[0])\n",
        "  for fila in range(n_f):\n",
        "    contador_nodos += 1\n",
        "    for col in range(n_c):\n",
        "      if grafo[fila][col] == 1:\n",
        "        contador_aristas += 1\n",
        "      else:\n",
        "        pass\n",
        "  d = (contador_aristas*2)/(contador_nodos*(contador_nodos-1))\n",
        "  return d"
      ],
      "metadata": {
        "id": "9iD_O2FAECoA"
      },
      "execution_count": 3,
      "outputs": []
    },
    {
      "cell_type": "code",
      "source": [
        "#Método para hallar la densidad de grafos dirigidos\n",
        "def densidad_grafo_dirigido(grafo):\n",
        "  contador_nodos = 0\n",
        "  contador_aristas = 0\n",
        "  n_f = len(grafo)\n",
        "  n_c = len(grafo[0])\n",
        "  for fila in range(n_f):\n",
        "    contador_nodos += 1\n",
        "    for col in range(n_c):\n",
        "      if grafo[fila][col] == 1:\n",
        "        contador_aristas += 1\n",
        "      else:\n",
        "        pass\n",
        "  d = (contador_aristas)/(contador_nodos*(contador_nodos-1))\n",
        "  return d"
      ],
      "metadata": {
        "id": "kKvoE5jHbM5p"
      },
      "execution_count": 4,
      "outputs": []
    },
    {
      "cell_type": "markdown",
      "source": [
        "5. \\\\\n",
        "\n",
        "Método para hallar el grado de entrada de cualquier nodo de un grafo no dirigido.\n",
        "\n",
        "Tenga en cuenta que al ser un grafo no dirigido se asume que el grado de entrada es igual al grado de salida (sólo para este caso)"
      ],
      "metadata": {
        "id": "pwzSCWaqevZD"
      }
    },
    {
      "cell_type": "code",
      "source": [
        "#Método para hallar el grado de entrada de cualquier nodo de un grafo no dirigido\n",
        "#Tenga en cuenta que al ser un grafo no dirigido se asume que el grado de entrada es igual al grado de salida (sólo para este caso)\n",
        "def grado_entrada_Nodo_grafo_no_dirigido(grafo, nodo):\n",
        "\n",
        "  n_f = len(grafo)\n",
        "  n_c = len(grafo[0])\n",
        "  contador= 0\n",
        "  for i in range(n_f):\n",
        "    if grafo[i][nodo-1] == 1:\n",
        "      contador += 1\n",
        "  for j in range(n_c):\n",
        "    if grafo[nodo-1][j] == 1:\n",
        "      contador += 1\n",
        "  print(\"El grado de entrada del nodo \", nodo, \"es: \", contador)"
      ],
      "metadata": {
        "id": "B1lv-BWhNG-3"
      },
      "execution_count": 5,
      "outputs": []
    },
    {
      "cell_type": "markdown",
      "source": [
        "Método para hallar el grado de entrada de cualquier nodo de un grafo dirigido"
      ],
      "metadata": {
        "id": "DqpWgdD6e-EY"
      }
    },
    {
      "cell_type": "code",
      "source": [
        "#Método para hallar el grado de entrada de cualquier nodo de un grafo dirigido\n",
        "def grado_entrada_Nodo_grafo_dirigido(grafo, nodo):\n",
        "\n",
        "  n_f_ = len(grafo)\n",
        "  n_c_ = len(grafo[0])\n",
        "  contador_= 0\n",
        "  for i in range(n_f_):\n",
        "    if grafo[i][nodo-1] == 1:\n",
        "      contador_ += 1\n",
        "  print(\"El grado de entrada del nodo \", nodo, \"es: \", contador_)"
      ],
      "metadata": {
        "id": "fVb_P9OjZaTT"
      },
      "execution_count": 6,
      "outputs": []
    },
    {
      "cell_type": "markdown",
      "source": [
        "Método para hallar el grado de salida de cualquier nodo de un grafo dirigido"
      ],
      "metadata": {
        "id": "WZdjS_1DfJZ_"
      }
    },
    {
      "cell_type": "code",
      "source": [
        "#Método para hallar el grado de salida de cualquier nodo de un grafo dirigido\n",
        "def grado_salida_Nodo_grafo_dirigido(grafo, nodo):\n",
        "\n",
        "  n_f_ = len(grafo)\n",
        "  n_c_ = len(grafo[0])\n",
        "  contador_= 0\n",
        "  for i in range(n_f_):\n",
        "    if grafo[nodo-1][i] == 1:\n",
        "      contador_ += 1\n",
        "  print(\"El grado de salida del nodo \", nodo, \"es: \", contador_)"
      ],
      "metadata": {
        "id": "XvJ3dOppfNQp"
      },
      "execution_count": 7,
      "outputs": []
    },
    {
      "cell_type": "markdown",
      "source": [
        "Ejemplos: \\\\\n",
        "\n",
        "- Grafo no dirigido:"
      ],
      "metadata": {
        "id": "KRcbRY_EgV9D"
      }
    },
    {
      "cell_type": "code",
      "source": [
        "W = leeMat_grafo_No_Dirigido()"
      ],
      "metadata": {
        "colab": {
          "base_uri": "https://localhost:8080/"
        },
        "id": "6D07oHPIgaYd",
        "outputId": "8b55c162-8f6f-4128-dc81-bc1441d69618"
      },
      "execution_count": 8,
      "outputs": [
        {
          "name": "stdout",
          "output_type": "stream",
          "text": [
            "Numero de nodos: 5\n",
            "El número máximo de aristas que puede tener el grafo es:  10\n",
            "Indique si el grafo a implementar tiene el número completo de aristas, si es así digite 'Si', de lo contrario digite 'No': no\n",
            "Digite el número total de aristas del grafo: 8\n",
            "Nodo_origen: 1\n",
            "Nodo_destino: 2\n",
            "Nodo_origen: 1\n",
            "Nodo_destino: 3\n",
            "Nodo_origen: 1\n",
            "Nodo_destino: 4\n",
            "Nodo_origen: 2\n",
            "Nodo_destino: 3\n",
            "Nodo_origen: 2\n",
            "Nodo_destino: 5\n",
            "Nodo_origen: 3\n",
            "Nodo_destino: 4\n",
            "Nodo_origen: 3\n",
            "Nodo_destino: 5\n",
            "Nodo_origen: 5\n",
            "Nodo_destino: 4\n"
          ]
        }
      ]
    },
    {
      "cell_type": "code",
      "source": [
        "W"
      ],
      "metadata": {
        "colab": {
          "base_uri": "https://localhost:8080/"
        },
        "id": "fZQpWz0ugwjZ",
        "outputId": "eac6eca1-95a2-4ebd-cc45-0df0f30aa48c"
      },
      "execution_count": 9,
      "outputs": [
        {
          "output_type": "execute_result",
          "data": {
            "text/plain": [
              "[[0, 1, 1, 1, 0],\n",
              " [0, 0, 1, 0, 1],\n",
              " [0, 0, 0, 1, 1],\n",
              " [0, 0, 0, 0, 1],\n",
              " [0, 0, 0, 0, 0]]"
            ]
          },
          "metadata": {},
          "execution_count": 9
        }
      ]
    },
    {
      "cell_type": "code",
      "source": [
        "densidad_grafo_no_dirigido(W)"
      ],
      "metadata": {
        "colab": {
          "base_uri": "https://localhost:8080/"
        },
        "id": "2Zfo96p_g1AB",
        "outputId": "bb862496-fd7c-44cb-fc70-9e6448dcf7f9"
      },
      "execution_count": 10,
      "outputs": [
        {
          "output_type": "execute_result",
          "data": {
            "text/plain": [
              "0.8"
            ]
          },
          "metadata": {},
          "execution_count": 10
        }
      ]
    },
    {
      "cell_type": "code",
      "source": [
        "grado_entrada_Nodo_grafo_no_dirigido(W, 3)"
      ],
      "metadata": {
        "colab": {
          "base_uri": "https://localhost:8080/"
        },
        "id": "qeaEwAJVg3Mo",
        "outputId": "76d0fe27-8a4d-4f09-ae9c-a04a5c617feb"
      },
      "execution_count": 11,
      "outputs": [
        {
          "output_type": "stream",
          "name": "stdout",
          "text": [
            "El grado de entrada del nodo  3 es:  4\n"
          ]
        }
      ]
    },
    {
      "cell_type": "markdown",
      "source": [
        "- Grafo dirigido:"
      ],
      "metadata": {
        "id": "yG-Pn3FJhE-j"
      }
    },
    {
      "cell_type": "code",
      "source": [
        "S = leeMat_grafo_Dirigido()"
      ],
      "metadata": {
        "colab": {
          "base_uri": "https://localhost:8080/"
        },
        "id": "MqwgDv81hIwA",
        "outputId": "7cac727e-5072-437c-d66b-05e71a880262"
      },
      "execution_count": 12,
      "outputs": [
        {
          "name": "stdout",
          "output_type": "stream",
          "text": [
            "Numero de nodos: 6\n",
            "El número máximo de aristas que puede tener el grafo es:  15\n",
            "Indique si el grafo a implementar tiene el número completo de aristas, si es así digite 'Si', de lo contrario digite 'No': no\n",
            "Digite el número total de aristas del grafo: 9\n",
            "Nodo_origen: 1\n",
            "Nodo_destino: 2\n",
            "Nodo_origen: 2\n",
            "Nodo_destino: 3\n",
            "Nodo_origen: 3\n",
            "Nodo_destino: 4\n",
            "Nodo_origen: 4\n",
            "Nodo_destino: 5\n",
            "Nodo_origen: 5\n",
            "Nodo_destino: 1\n",
            "Nodo_origen: 4\n",
            "Nodo_destino: 6\n",
            "Nodo_origen: 1\n",
            "Nodo_destino: 6\n",
            "Nodo_origen: 6\n",
            "Nodo_destino: 5\n",
            "Nodo_origen: 6\n",
            "Nodo_destino: 3\n"
          ]
        }
      ]
    },
    {
      "cell_type": "code",
      "source": [
        "S"
      ],
      "metadata": {
        "colab": {
          "base_uri": "https://localhost:8080/"
        },
        "id": "RE71FLwShkG9",
        "outputId": "9cda0093-ab95-4370-8998-b5d44ea1f904"
      },
      "execution_count": 13,
      "outputs": [
        {
          "output_type": "execute_result",
          "data": {
            "text/plain": [
              "[[0, 1, 0, 0, 0, 1],\n",
              " [0, 0, 1, 0, 0, 0],\n",
              " [0, 0, 0, 1, 0, 0],\n",
              " [0, 0, 0, 0, 1, 1],\n",
              " [1, 0, 0, 0, 0, 0],\n",
              " [0, 0, 1, 0, 1, 0]]"
            ]
          },
          "metadata": {},
          "execution_count": 13
        }
      ]
    },
    {
      "cell_type": "code",
      "source": [
        "densidad_grafo_dirigido(S)"
      ],
      "metadata": {
        "colab": {
          "base_uri": "https://localhost:8080/"
        },
        "id": "dn-A4jOyhnSJ",
        "outputId": "e1b7a23b-9a1b-48ed-a2b7-7f99a68ced18"
      },
      "execution_count": 14,
      "outputs": [
        {
          "output_type": "execute_result",
          "data": {
            "text/plain": [
              "0.3"
            ]
          },
          "metadata": {},
          "execution_count": 14
        }
      ]
    },
    {
      "cell_type": "code",
      "source": [
        "grado_entrada_Nodo_grafo_dirigido(S, 3)"
      ],
      "metadata": {
        "colab": {
          "base_uri": "https://localhost:8080/"
        },
        "id": "Jc2eoF13hpvX",
        "outputId": "228bf0fe-00b5-41e9-8e74-c4dbf8b03702"
      },
      "execution_count": 15,
      "outputs": [
        {
          "output_type": "stream",
          "name": "stdout",
          "text": [
            "El grado de entrada del nodo  3 es:  2\n"
          ]
        }
      ]
    },
    {
      "cell_type": "code",
      "source": [
        "grado_salida_Nodo_grafo_dirigido(S, 3)"
      ],
      "metadata": {
        "colab": {
          "base_uri": "https://localhost:8080/"
        },
        "id": "6o12qy_EhtPj",
        "outputId": "193d9da4-b365-4120-ee82-e81f0d751d7a"
      },
      "execution_count": 16,
      "outputs": [
        {
          "output_type": "stream",
          "name": "stdout",
          "text": [
            "El grado de salida del nodo  3 es:  1\n"
          ]
        }
      ]
    }
  ]
}